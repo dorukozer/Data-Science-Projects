{
 "cells": [
  {
   "cell_type": "code",
   "execution_count": 33,
   "id": "83bd3339",
   "metadata": {},
   "outputs": [],
   "source": [
    "%matplotlib inline\n",
    "#Doruk ÖZER 70192\n",
    "import numpy as np\n",
    "import pandas as pd\n",
    "import statsmodels.api as sm\n",
    "import matplotlib.pyplot as plt\n",
    "import statsmodels.formula.api as smf\n",
    "from sklearn.metrics import confusion_matrix, classification_report"
   ]
  },
  {
   "cell_type": "code",
   "execution_count": 34,
   "id": "cd203452",
   "metadata": {},
   "outputs": [
    {
     "data": {
      "text/html": [
       "<div>\n",
       "<style scoped>\n",
       "    .dataframe tbody tr th:only-of-type {\n",
       "        vertical-align: middle;\n",
       "    }\n",
       "\n",
       "    .dataframe tbody tr th {\n",
       "        vertical-align: top;\n",
       "    }\n",
       "\n",
       "    .dataframe thead th {\n",
       "        text-align: right;\n",
       "    }\n",
       "</style>\n",
       "<table border=\"1\" class=\"dataframe\">\n",
       "  <thead>\n",
       "    <tr style=\"text-align: right;\">\n",
       "      <th></th>\n",
       "      <th>Index</th>\n",
       "      <th>Sales</th>\n",
       "      <th>t</th>\n",
       "      <th>tsq</th>\n",
       "      <th>tcube</th>\n",
       "      <th>Jan</th>\n",
       "      <th>Feb</th>\n",
       "      <th>Mar</th>\n",
       "      <th>Apr</th>\n",
       "      <th>May</th>\n",
       "      <th>Jun</th>\n",
       "      <th>Jul</th>\n",
       "      <th>Aug</th>\n",
       "      <th>Sep</th>\n",
       "      <th>Oct</th>\n",
       "      <th>Nov</th>\n",
       "      <th>Dec</th>\n",
       "    </tr>\n",
       "    <tr>\n",
       "      <th>Month</th>\n",
       "      <th></th>\n",
       "      <th></th>\n",
       "      <th></th>\n",
       "      <th></th>\n",
       "      <th></th>\n",
       "      <th></th>\n",
       "      <th></th>\n",
       "      <th></th>\n",
       "      <th></th>\n",
       "      <th></th>\n",
       "      <th></th>\n",
       "      <th></th>\n",
       "      <th></th>\n",
       "      <th></th>\n",
       "      <th></th>\n",
       "      <th></th>\n",
       "      <th></th>\n",
       "    </tr>\n",
       "  </thead>\n",
       "  <tbody>\n",
       "    <tr>\n",
       "      <th>1/1/2006</th>\n",
       "      <td>1</td>\n",
       "      <td>808</td>\n",
       "      <td>1</td>\n",
       "      <td>1</td>\n",
       "      <td>1</td>\n",
       "      <td>1</td>\n",
       "      <td>0</td>\n",
       "      <td>0</td>\n",
       "      <td>0</td>\n",
       "      <td>0</td>\n",
       "      <td>0</td>\n",
       "      <td>0</td>\n",
       "      <td>0</td>\n",
       "      <td>0</td>\n",
       "      <td>0</td>\n",
       "      <td>0</td>\n",
       "      <td>0</td>\n",
       "    </tr>\n",
       "    <tr>\n",
       "      <th>2/1/2006</th>\n",
       "      <td>2</td>\n",
       "      <td>969</td>\n",
       "      <td>2</td>\n",
       "      <td>4</td>\n",
       "      <td>8</td>\n",
       "      <td>0</td>\n",
       "      <td>1</td>\n",
       "      <td>0</td>\n",
       "      <td>0</td>\n",
       "      <td>0</td>\n",
       "      <td>0</td>\n",
       "      <td>0</td>\n",
       "      <td>0</td>\n",
       "      <td>0</td>\n",
       "      <td>0</td>\n",
       "      <td>0</td>\n",
       "      <td>0</td>\n",
       "    </tr>\n",
       "    <tr>\n",
       "      <th>3/1/2006</th>\n",
       "      <td>3</td>\n",
       "      <td>1475</td>\n",
       "      <td>3</td>\n",
       "      <td>9</td>\n",
       "      <td>27</td>\n",
       "      <td>0</td>\n",
       "      <td>0</td>\n",
       "      <td>1</td>\n",
       "      <td>0</td>\n",
       "      <td>0</td>\n",
       "      <td>0</td>\n",
       "      <td>0</td>\n",
       "      <td>0</td>\n",
       "      <td>0</td>\n",
       "      <td>0</td>\n",
       "      <td>0</td>\n",
       "      <td>0</td>\n",
       "    </tr>\n",
       "    <tr>\n",
       "      <th>4/1/2006</th>\n",
       "      <td>4</td>\n",
       "      <td>1439</td>\n",
       "      <td>4</td>\n",
       "      <td>16</td>\n",
       "      <td>64</td>\n",
       "      <td>0</td>\n",
       "      <td>0</td>\n",
       "      <td>0</td>\n",
       "      <td>1</td>\n",
       "      <td>0</td>\n",
       "      <td>0</td>\n",
       "      <td>0</td>\n",
       "      <td>0</td>\n",
       "      <td>0</td>\n",
       "      <td>0</td>\n",
       "      <td>0</td>\n",
       "      <td>0</td>\n",
       "    </tr>\n",
       "    <tr>\n",
       "      <th>5/1/2006</th>\n",
       "      <td>5</td>\n",
       "      <td>1394</td>\n",
       "      <td>5</td>\n",
       "      <td>25</td>\n",
       "      <td>125</td>\n",
       "      <td>0</td>\n",
       "      <td>0</td>\n",
       "      <td>0</td>\n",
       "      <td>0</td>\n",
       "      <td>1</td>\n",
       "      <td>0</td>\n",
       "      <td>0</td>\n",
       "      <td>0</td>\n",
       "      <td>0</td>\n",
       "      <td>0</td>\n",
       "      <td>0</td>\n",
       "      <td>0</td>\n",
       "    </tr>\n",
       "  </tbody>\n",
       "</table>\n",
       "</div>"
      ],
      "text/plain": [
       "          Index  Sales  t  tsq  tcube  Jan  Feb  Mar  Apr  May  Jun  Jul  Aug  \\\n",
       "Month                                                                           \n",
       "1/1/2006      1    808  1    1      1    1    0    0    0    0    0    0    0   \n",
       "2/1/2006      2    969  2    4      8    0    1    0    0    0    0    0    0   \n",
       "3/1/2006      3   1475  3    9     27    0    0    1    0    0    0    0    0   \n",
       "4/1/2006      4   1439  4   16     64    0    0    0    1    0    0    0    0   \n",
       "5/1/2006      5   1394  5   25    125    0    0    0    0    1    0    0    0   \n",
       "\n",
       "          Sep  Oct  Nov  Dec  \n",
       "Month                         \n",
       "1/1/2006    0    0    0    0  \n",
       "2/1/2006    0    0    0    0  \n",
       "3/1/2006    0    0    0    0  \n",
       "4/1/2006    0    0    0    0  \n",
       "5/1/2006    0    0    0    0  "
      ]
     },
     "execution_count": 34,
     "metadata": {},
     "output_type": "execute_result"
    }
   ],
   "source": [
    "df = pd.read_csv('Toyota_Sales.csv', index_col=0) # let's data into dataframe df\n",
    "training_set= df[:96]# seperating data into training set\n",
    "test_set= df[96:]# seperating data into test set\n",
    "df.head() "
   ]
  },
  {
   "cell_type": "code",
   "execution_count": 35,
   "id": "8513abcb",
   "metadata": {},
   "outputs": [],
   "source": [
    " # Running a linear regression with 11 dummies (no dummy at May) with t,tsq and tcube\n",
    "lm = sm.OLS.from_formula('Sales ~ t + tsq + tcube + Jan + Feb + Mar + Apr + Jun + Jul + Aug + Sep + Oct + Nov + Dec ', training_set) \n",
    "result = lm.fit() # results of the OLS regression"
   ]
  },
  {
   "cell_type": "code",
   "execution_count": 36,
   "id": "6e70c01a",
   "metadata": {},
   "outputs": [
    {
     "name": "stdout",
     "output_type": "stream",
     "text": [
      "                            OLS Regression Results                            \n",
      "==============================================================================\n",
      "Dep. Variable:                  Sales   R-squared:                       0.388\n",
      "Model:                            OLS   Adj. R-squared:                  0.283\n",
      "Method:                 Least Squares   F-statistic:                     3.672\n",
      "Date:                Fri, 29 Apr 2022   Prob (F-statistic):           9.95e-05\n",
      "Time:                        17:46:23   Log-Likelihood:                -767.46\n",
      "No. Observations:                  96   AIC:                             1565.\n",
      "Df Residuals:                      81   BIC:                             1603.\n",
      "Df Model:                          14                                         \n",
      "Covariance Type:            nonrobust                                         \n",
      "==============================================================================\n",
      "                 coef    std err          t      P>|t|      [0.025      0.975]\n",
      "------------------------------------------------------------------------------\n",
      "Intercept   1495.9557    424.017      3.528      0.001     652.294    2339.617\n",
      "t             -4.3960     29.980     -0.147      0.884     -64.048      55.256\n",
      "tsq            0.5768      0.716      0.805      0.423      -0.848       2.002\n",
      "tcube         -0.0058      0.005     -1.194      0.236      -0.015       0.004\n",
      "Jan         -900.2712    391.039     -2.302      0.024   -1678.316    -122.227\n",
      "Feb         -448.9615    390.763     -1.149      0.254   -1226.457     328.534\n",
      "Mar          -20.1489    390.573     -0.052      0.959    -797.266     756.968\n",
      "Apr          -50.9233    390.462     -0.130      0.897    -827.820     725.973\n",
      "Jun          -74.9692    390.461     -0.192      0.848    -851.864     701.926\n",
      "Jul         -425.0461    390.567     -1.088      0.280   -1202.152     352.060\n",
      "Aug         -420.9459    390.744     -1.077      0.285   -1198.403     356.512\n",
      "Sep         -126.2587    390.994     -0.323      0.748    -904.213     651.696\n",
      "Oct         -154.8248    391.320     -0.396      0.693    -933.429     623.779\n",
      "Nov            0.3907    391.729      0.001      0.999    -779.027     779.809\n",
      "Dec         1455.0475    392.228      3.710      0.000     674.638    2235.457\n",
      "==============================================================================\n",
      "Omnibus:                        1.205   Durbin-Watson:                   1.243\n",
      "Prob(Omnibus):                  0.547   Jarque-Bera (JB):                0.684\n",
      "Skew:                          -0.094   Prob(JB):                        0.710\n",
      "Kurtosis:                       3.368   Cond. No.                     4.25e+06\n",
      "==============================================================================\n",
      "\n",
      "Notes:\n",
      "[1] Standard Errors assume that the covariance matrix of the errors is correctly specified.\n",
      "[2] The condition number is large, 4.25e+06. This might indicate that there are\n",
      "strong multicollinearity or other numerical problems.\n"
     ]
    }
   ],
   "source": [
    "print(result.summary())\n",
    "# the many of the dummies are statistically insignificant based on the observations at the P values\n",
    "# t, and tsq are statically significant\n",
    "# R^2 value is low for training set. It states that the model can predict 0.38 of the predictions  \n",
    "# also monthly dummies such as March April September November October are statistically insignificant. \n",
    "# correlation between prediction and actual values are quite bad"
   ]
  },
  {
   "cell_type": "code",
   "execution_count": 37,
   "id": "084797e6",
   "metadata": {},
   "outputs": [
    {
     "name": "stdout",
     "output_type": "stream",
     "text": [
      "MAPE of Training Set =  5.751418711787475\n",
      "MSE of Training Set = 514458.29792751925\n",
      "RMSE of Training Set = 717.2574837026932\n"
     ]
    }
   ],
   "source": [
    "MSE1= np.mean(np.square(result.resid)) # we can retrieve the residuals: e_t= y_t-yhat_t\n",
    "RMSE1 = np.sqrt(MSE1) # and compute the usual error measures\n",
    "MAPE1 = (np.mean(abs(np.array(result.resid))/np.array(training_set.iloc[:,1])))\n",
    "print('MAPE of Training Set = ', MAPE1)\n",
    "print('MSE of Training Set =', MSE1)\n",
    "print('RMSE of Training Set =', RMSE1)"
   ]
  },
  {
   "cell_type": "code",
   "execution_count": 38,
   "id": "05b36957",
   "metadata": {},
   "outputs": [
    {
     "data": {
      "image/png": "[encoded data removed]",
      "text/plain": [
       "<Figure size 1152x576 with 1 Axes>"
      ]
     },
     "metadata": {
      "needs_background": "light"
     },
     "output_type": "display_data"
    }
   ],
   "source": [
    "time_axis = np.linspace(1,500,499)\n",
    "plt.figure(figsize = (16, 8))\n",
    "plt.plot(time_axis[0:96],np.array(training_set.iloc[:,1]), 'r')\n",
    "plt.plot(time_axis[0:96], result.get_prediction().predicted_mean, 'b')\n",
    "plt.xlabel(\"month\")\n",
    "plt.ylabel(\"Sales\")\n",
    "plt.title(\"Sales\")\n",
    "plt.legend(['Sales'])\n",
    "plt.show()"
   ]
  },
  {
   "cell_type": "code",
   "execution_count": 39,
   "id": "63fa59d7",
   "metadata": {},
   "outputs": [
    {
     "name": "stdout",
     "output_type": "stream",
     "text": [
      "MAPE of Test Set =  23.39591810032875\n",
      "MSE Test  = 25055427.428572852\n",
      "RMSE Test = 5005.539674058418\n"
     ]
    }
   ],
   "source": [
    "# using our model estimated at trainging set on the test set \n",
    "result2=result.predict(test_set)\n",
    "# the residuals on the test set\n",
    "resids_test1=test_set.iloc[:,1] - result2\n",
    "#MSE MAPE RMSE on the test set.\n",
    "MAPE_test = (np.mean(abs(np.array(resids_test1))/np.array(test_set.iloc[:,1])))\n",
    "print('MAPE of Test Set = ', MAPE_test)\n",
    "mse_test1= np.mean(np.square(resids_test1))\n",
    "rmse_test1 = np.sqrt(mse_test1)\n",
    "print('MSE Test  =', mse_test1)\n",
    "print('RMSE Test =', rmse_test1 )"
   ]
  },
  {
   "cell_type": "code",
   "execution_count": 40,
   "id": "cd89d87f",
   "metadata": {},
   "outputs": [],
   "source": [
    " # Running a linear regression with 11 dummies (no dummy at May) with t,tsq and tcube\n",
    "lm = sm.OLS.from_formula('Sales ~ t + Jan + Dec ', training_set) \n",
    "result = lm.fit() # results of the OLS regression"
   ]
  },
  {
   "cell_type": "code",
   "execution_count": 41,
   "id": "8f4436a5",
   "metadata": {},
   "outputs": [
    {
     "name": "stdout",
     "output_type": "stream",
     "text": [
      "                            OLS Regression Results                            \n",
      "==============================================================================\n",
      "Dep. Variable:                  Sales   R-squared:                       0.307\n",
      "Model:                            OLS   Adj. R-squared:                  0.284\n",
      "Method:                 Least Squares   F-statistic:                     13.58\n",
      "Date:                Fri, 29 Apr 2022   Prob (F-statistic):           2.07e-07\n",
      "Time:                        17:46:24   Log-Likelihood:                -773.45\n",
      "No. Observations:                  96   AIC:                             1555.\n",
      "Df Residuals:                      92   BIC:                             1565.\n",
      "Df Model:                           3                                         \n",
      "Covariance Type:            nonrobust                                         \n",
      "==============================================================================\n",
      "                 coef    std err          t      P>|t|      [0.025      0.975]\n",
      "------------------------------------------------------------------------------\n",
      "Intercept   1470.7058    164.729      8.928      0.000    1143.539    1797.873\n",
      "t              2.6893      2.882      0.933      0.353      -3.034       8.413\n",
      "Jan         -704.2213    289.611     -2.432      0.017   -1279.414    -129.029\n",
      "Dec         1591.5713    289.611      5.496      0.000    1016.379    2166.764\n",
      "==============================================================================\n",
      "Omnibus:                        2.919   Durbin-Watson:                   1.172\n",
      "Prob(Omnibus):                  0.232   Jarque-Bera (JB):                2.795\n",
      "Skew:                           0.083   Prob(JB):                        0.247\n",
      "Kurtosis:                       3.819   Cond. No.                         214.\n",
      "==============================================================================\n",
      "\n",
      "Notes:\n",
      "[1] Standard Errors assume that the covariance matrix of the errors is correctly specified.\n"
     ]
    }
   ],
   "source": [
    "print(result.summary())\n",
    "\n",
    "#R^2 value is nearly the same, and  dummies at Jan and Dec is statistically significant also the trend term t has P value\n",
    "# as 0.307 can be counted as statistically significant. \n",
    "# Reduced model shows us that reduced model has nearly performs as well as previous full-model. This shows that, the predictors of the previous\n",
    "# model contains unnecessary predictors."
   ]
  },
  {
   "cell_type": "code",
   "execution_count": 42,
   "id": "08a713b0",
   "metadata": {},
   "outputs": [
    {
     "name": "stdout",
     "output_type": "stream",
     "text": [
      "MAPE of Training Set =  6.358164058264864\n",
      "MSE of Training Set = 582829.2097656036\n",
      "RMSE of Training Set = 763.4325181478738\n"
     ]
    }
   ],
   "source": [
    "MSE1= np.mean(np.square(result.resid)) # retrieving the residiuals\n",
    "RMSE1 = np.sqrt(MSE1) # computation of RMSE\n",
    "MAPE1 = (np.mean(abs(np.array(result.resid))/np.array(training_set.iloc[:,1]))) # computation of MAPE\n",
    "print('MAPE of Training Set = ', MAPE1)\n",
    "print('MSE of Training Set =', MSE1)\n",
    "print('RMSE of Training Set =', RMSE1)"
   ]
  },
  {
   "cell_type": "code",
   "execution_count": 43,
   "id": "1adc3bc9",
   "metadata": {},
   "outputs": [
    {
     "data": {
      "image/png": "[encoded data removed]",
      "text/plain": [
       "<Figure size 1152x576 with 1 Axes>"
      ]
     },
     "metadata": {
      "needs_background": "light"
     },
     "output_type": "display_data"
    }
   ],
   "source": [
    "#printing the predictions\n",
    "time_axis = np.linspace(1,500,499)\n",
    "plt.figure(figsize = (16, 8))\n",
    "plt.plot(time_axis[0:96],np.array(training_set.iloc[:,1]), 'r')\n",
    "plt.plot(time_axis[0:96], result.get_prediction().predicted_mean, 'b')\n",
    "plt.xlabel(\"month\")\n",
    "plt.ylabel(\"Sales\")\n",
    "plt.title(\"Sales\")\n",
    "plt.legend(['Sales'])\n",
    "plt.show()"
   ]
  },
  {
   "cell_type": "code",
   "execution_count": 44,
   "id": "ca7a1f22",
   "metadata": {},
   "outputs": [
    {
     "name": "stdout",
     "output_type": "stream",
     "text": [
      "MAPE of Test Set =  5.996805470158495\n",
      "MSE Test  = 2036163.8146224064\n",
      "RMSE Test = 1426.942120277626\n"
     ]
    }
   ],
   "source": [
    "# using our model estimated at trainging set on the test set \n",
    "result2=result.predict(test_set)\n",
    "# the residuals on the test set\n",
    "resids_test1=test_set.iloc[:,1] - result2\n",
    "#MSE MAPE RMSE on the test set.\n",
    "MAPE_test = (np.mean(abs(np.array(resids_test1))/np.array(test_set.iloc[:,1])))\n",
    "print('MAPE of Test Set = ', MAPE_test)\n",
    "mse_test1= np.mean(np.square(resids_test1))\n",
    "rmse_test1 = np.sqrt(mse_test1)\n",
    "print('MSE Test  =', mse_test1)\n",
    "print('RMSE Test =', rmse_test1 )\n",
    "\n",
    "# Better results at test set since the overfitting issue is discarded by reducing our model parameters\n",
    "# other parameters in the previous model should have caused some overfitting.\n",
    "# In addition, previous model were nearly as succesful as the reduced model on the training set altough it was more complex\n",
    "# and containing more parameters."
   ]
  },
  {
   "cell_type": "code",
   "execution_count": 45,
   "id": "0bd9ac46",
   "metadata": {},
   "outputs": [
    {
     "data": {
      "text/html": [
       "<div>\n",
       "<style scoped>\n",
       "    .dataframe tbody tr th:only-of-type {\n",
       "        vertical-align: middle;\n",
       "    }\n",
       "\n",
       "    .dataframe tbody tr th {\n",
       "        vertical-align: top;\n",
       "    }\n",
       "\n",
       "    .dataframe thead th {\n",
       "        text-align: right;\n",
       "    }\n",
       "</style>\n",
       "<table border=\"1\" class=\"dataframe\">\n",
       "  <thead>\n",
       "    <tr style=\"text-align: right;\">\n",
       "      <th></th>\n",
       "      <th>Sales</th>\n",
       "      <th>Up</th>\n",
       "      <th>Sup</th>\n",
       "      <th>Lag1</th>\n",
       "      <th>Lag2</th>\n",
       "      <th>Lag3</th>\n",
       "      <th>Jan</th>\n",
       "      <th>Dec</th>\n",
       "    </tr>\n",
       "    <tr>\n",
       "      <th>Index</th>\n",
       "      <th></th>\n",
       "      <th></th>\n",
       "      <th></th>\n",
       "      <th></th>\n",
       "      <th></th>\n",
       "      <th></th>\n",
       "      <th></th>\n",
       "      <th></th>\n",
       "    </tr>\n",
       "  </thead>\n",
       "  <tbody>\n",
       "    <tr>\n",
       "      <th>1.0</th>\n",
       "      <td>808.0</td>\n",
       "      <td>NaN</td>\n",
       "      <td>NaN</td>\n",
       "      <td>NaN</td>\n",
       "      <td>NaN</td>\n",
       "      <td>NaN</td>\n",
       "      <td>1.0</td>\n",
       "      <td>0.0</td>\n",
       "    </tr>\n",
       "    <tr>\n",
       "      <th>2.0</th>\n",
       "      <td>969.0</td>\n",
       "      <td>1.0</td>\n",
       "      <td>0.0</td>\n",
       "      <td>NaN</td>\n",
       "      <td>NaN</td>\n",
       "      <td>NaN</td>\n",
       "      <td>0.0</td>\n",
       "      <td>0.0</td>\n",
       "    </tr>\n",
       "    <tr>\n",
       "      <th>3.0</th>\n",
       "      <td>1475.0</td>\n",
       "      <td>1.0</td>\n",
       "      <td>1.0</td>\n",
       "      <td>161.0</td>\n",
       "      <td>NaN</td>\n",
       "      <td>NaN</td>\n",
       "      <td>0.0</td>\n",
       "      <td>0.0</td>\n",
       "    </tr>\n",
       "    <tr>\n",
       "      <th>4.0</th>\n",
       "      <td>1439.0</td>\n",
       "      <td>0.0</td>\n",
       "      <td>0.0</td>\n",
       "      <td>506.0</td>\n",
       "      <td>161.0</td>\n",
       "      <td>NaN</td>\n",
       "      <td>0.0</td>\n",
       "      <td>0.0</td>\n",
       "    </tr>\n",
       "    <tr>\n",
       "      <th>5.0</th>\n",
       "      <td>1394.0</td>\n",
       "      <td>0.0</td>\n",
       "      <td>0.0</td>\n",
       "      <td>-36.0</td>\n",
       "      <td>506.0</td>\n",
       "      <td>161.0</td>\n",
       "      <td>0.0</td>\n",
       "      <td>0.0</td>\n",
       "    </tr>\n",
       "  </tbody>\n",
       "</table>\n",
       "</div>"
      ],
      "text/plain": [
       "        Sales   Up  Sup   Lag1   Lag2   Lag3  Jan  Dec\n",
       "Index                                                 \n",
       "1.0     808.0  NaN  NaN    NaN    NaN    NaN  1.0  0.0\n",
       "2.0     969.0  1.0  0.0    NaN    NaN    NaN  0.0  0.0\n",
       "3.0    1475.0  1.0  1.0  161.0    NaN    NaN  0.0  0.0\n",
       "4.0    1439.0  0.0  0.0  506.0  161.0    NaN  0.0  0.0\n",
       "5.0    1394.0  0.0  0.0  -36.0  506.0  161.0  0.0  0.0"
      ]
     },
     "execution_count": 45,
     "metadata": {},
     "output_type": "execute_result"
    }
   ],
   "source": [
    "#read the data to a dataframe\n",
    "df1 = pd.read_csv('Toyota_Sales_Up.csv', index_col=0, parse_dates=True)\n",
    "training_set= df1[:96]# seperating data into training set\n",
    "test_set= df1[96:168]# seperating data into test set\n",
    "\n",
    "training_set.head()"
   ]
  },
  {
   "cell_type": "code",
   "execution_count": 46,
   "id": "b675b54d",
   "metadata": {},
   "outputs": [],
   "source": [
    "# since we have a predictor at lag 3, we can start making predictions at month 5 \n",
    "training_set1=training_set[5:]"
   ]
  },
  {
   "cell_type": "code",
   "execution_count": 47,
   "id": "684ceab3",
   "metadata": {},
   "outputs": [],
   "source": [
    "# Defining model to fit with Lag1 , Lag2 ,Lag3 and monthly indicators: Jan and Dec\n",
    "formula = 'Up ~ Lag1+Lag2+Lag3+ Jan +Dec'"
   ]
  },
  {
   "cell_type": "code",
   "execution_count": 48,
   "id": "a6e154f9",
   "metadata": {},
   "outputs": [
    {
     "data": {
      "text/html": [
       "<table class=\"simpletable\">\n",
       "<caption>Generalized Linear Model Regression Results</caption>\n",
       "<tr>\n",
       "  <th>Dep. Variable:</th>          <td>Up</td>        <th>  No. Observations:  </th>  <td>    92</td> \n",
       "</tr>\n",
       "<tr>\n",
       "  <th>Model:</th>                  <td>GLM</td>       <th>  Df Residuals:      </th>  <td>    86</td> \n",
       "</tr>\n",
       "<tr>\n",
       "  <th>Model Family:</th>        <td>Binomial</td>     <th>  Df Model:          </th>  <td>     5</td> \n",
       "</tr>\n",
       "<tr>\n",
       "  <th>Link Function:</th>         <td>Logit</td>      <th>  Scale:             </th> <td>  1.0000</td>\n",
       "</tr>\n",
       "<tr>\n",
       "  <th>Method:</th>                <td>IRLS</td>       <th>  Log-Likelihood:    </th> <td> -43.315</td>\n",
       "</tr>\n",
       "<tr>\n",
       "  <th>Date:</th>            <td>Fri, 29 Apr 2022</td> <th>  Deviance:          </th> <td>  86.630</td>\n",
       "</tr>\n",
       "<tr>\n",
       "  <th>Time:</th>                <td>17:46:25</td>     <th>  Pearson chi2:      </th>  <td>  71.2</td> \n",
       "</tr>\n",
       "<tr>\n",
       "  <th>No. Iterations:</th>         <td>22</td>        <th>  Pseudo R-squ. (CS):</th>  <td>0.3479</td> \n",
       "</tr>\n",
       "<tr>\n",
       "  <th>Covariance Type:</th>     <td>nonrobust</td>    <th>                     </th>     <td> </td>   \n",
       "</tr>\n",
       "</table>\n",
       "<table class=\"simpletable\">\n",
       "<tr>\n",
       "      <td></td>         <th>coef</th>     <th>std err</th>      <th>z</th>      <th>P>|z|</th>  <th>[0.025</th>    <th>0.975]</th>  \n",
       "</tr>\n",
       "<tr>\n",
       "  <th>Intercept</th> <td>    0.2034</td> <td>    0.260</td> <td>    0.783</td> <td> 0.434</td> <td>   -0.306</td> <td>    0.713</td>\n",
       "</tr>\n",
       "<tr>\n",
       "  <th>Lag1</th>      <td>   -0.0014</td> <td>    0.000</td> <td>   -3.347</td> <td> 0.001</td> <td>   -0.002</td> <td>   -0.001</td>\n",
       "</tr>\n",
       "<tr>\n",
       "  <th>Lag2</th>      <td>   -0.0009</td> <td>    0.000</td> <td>   -2.653</td> <td> 0.008</td> <td>   -0.002</td> <td>   -0.000</td>\n",
       "</tr>\n",
       "<tr>\n",
       "  <th>Lag3</th>      <td>   -0.0005</td> <td>    0.000</td> <td>   -1.813</td> <td> 0.070</td> <td>   -0.001</td> <td>  4.2e-05</td>\n",
       "</tr>\n",
       "<tr>\n",
       "  <th>Jan</th>       <td>  -21.9276</td> <td> 2.66e+04</td> <td>   -0.001</td> <td> 0.999</td> <td>-5.21e+04</td> <td>  5.2e+04</td>\n",
       "</tr>\n",
       "<tr>\n",
       "  <th>Dec</th>       <td>   24.1444</td> <td> 2.47e+04</td> <td>    0.001</td> <td> 0.999</td> <td>-4.84e+04</td> <td> 4.85e+04</td>\n",
       "</tr>\n",
       "</table>"
      ],
      "text/plain": [
       "<class 'statsmodels.iolib.summary.Summary'>\n",
       "\"\"\"\n",
       "                 Generalized Linear Model Regression Results                  \n",
       "==============================================================================\n",
       "Dep. Variable:                     Up   No. Observations:                   92\n",
       "Model:                            GLM   Df Residuals:                       86\n",
       "Model Family:                Binomial   Df Model:                            5\n",
       "Link Function:                  Logit   Scale:                          1.0000\n",
       "Method:                          IRLS   Log-Likelihood:                -43.315\n",
       "Date:                Fri, 29 Apr 2022   Deviance:                       86.630\n",
       "Time:                        17:46:25   Pearson chi2:                     71.2\n",
       "No. Iterations:                    22   Pseudo R-squ. (CS):             0.3479\n",
       "Covariance Type:            nonrobust                                         \n",
       "==============================================================================\n",
       "                 coef    std err          z      P>|z|      [0.025      0.975]\n",
       "------------------------------------------------------------------------------\n",
       "Intercept      0.2034      0.260      0.783      0.434      -0.306       0.713\n",
       "Lag1          -0.0014      0.000     -3.347      0.001      -0.002      -0.001\n",
       "Lag2          -0.0009      0.000     -2.653      0.008      -0.002      -0.000\n",
       "Lag3          -0.0005      0.000     -1.813      0.070      -0.001     4.2e-05\n",
       "Jan          -21.9276   2.66e+04     -0.001      0.999   -5.21e+04     5.2e+04\n",
       "Dec           24.1444   2.47e+04      0.001      0.999   -4.84e+04    4.85e+04\n",
       "==============================================================================\n",
       "\"\"\""
      ]
     },
     "execution_count": 48,
     "metadata": {},
     "output_type": "execute_result"
    }
   ],
   "source": [
    "model1 = smf.glm(formula = formula, data=training_set1, family=sm.families.Binomial())\n",
    "result1 = model1.fit()\n",
    "result1.summary()\n",
    "# results shows us that indicators at Dec and Jan are insignificant since their P values are 0.999\n",
    "# the lag1 lag2 lag3 are statistically significant\n",
    "# that means ups and downs are not realted with the monthly indicators."
   ]
  },
  {
   "cell_type": "code",
   "execution_count": 49,
   "id": "089c2419",
   "metadata": {},
   "outputs": [
    {
     "name": "stdout",
     "output_type": "stream",
     "text": [
      "[0, 1, 1, 1, 1, 1, 1, 1, 0, 1, 0, 0, 0, 1, 1, 1, 0, 1, 1, 1, 0, 1, 1, 1, 0, 1, 1, 0, 1, 0, 1, 1, 0, 1, 1, 0, 0, 1, 1, 1, 0, 0, 1, 1, 0, 1, 0, 1, 1, 0, 0, 1, 0, 0, 0, 1, 0, 1, 1, 1, 0, 1, 1, 1, 1, 0, 0, 1, 0, 1, 1, 1, 0, 0, 1, 0, 1, 0, 1, 1, 0, 1, 1, 1, 1, 0, 0, 1, 1, 1, 0, 1]\n"
     ]
    }
   ],
   "source": [
    "#Predicting the probabilities \n",
    "predictions1 = result1.predict() \n",
    "# assigning 1/2 as treshold to classify the results as 1 or 0 \n",
    "# if the probabilities are higher than 1/2 than it would be classified as class 1 \n",
    "pthreshold = 0.5\n",
    "predictions1_class = [ 1 if x > pthreshold else 0 for x in predictions1]\n",
    "print(predictions1_class)"
   ]
  },
  {
   "cell_type": "code",
   "execution_count": 50,
   "id": "b6a572d3",
   "metadata": {},
   "outputs": [
    {
     "name": "stdout",
     "output_type": "stream",
     "text": [
      "[[25 15]\n",
      " [10 42]]\n"
     ]
    }
   ],
   "source": [
    "# based on confusion matrix\n",
    "# total error rate calculated: (15+10)/92\n",
    "# we were able to predict 42 out of the 52 up periods as up\n",
    "# the model predicted 25 out of 40 down periods\n",
    "print(confusion_matrix(training_set1.iloc[:,1], predictions1_class))"
   ]
  },
  {
   "cell_type": "code",
   "execution_count": 51,
   "id": "0d84f4da",
   "metadata": {},
   "outputs": [
    {
     "name": "stdout",
     "output_type": "stream",
     "text": [
      "              precision    recall  f1-score   support\n",
      "\n",
      "         0.0       0.71      0.62      0.67        40\n",
      "         1.0       0.74      0.81      0.77        52\n",
      "\n",
      "    accuracy                           0.73        92\n",
      "   macro avg       0.73      0.72      0.72        92\n",
      "weighted avg       0.73      0.73      0.73        92\n",
      "\n"
     ]
    }
   ],
   "source": [
    "#report\n",
    "print(classification_report(training_set1.iloc[:,1], predictions1_class))"
   ]
  },
  {
   "cell_type": "code",
   "execution_count": 52,
   "id": "93b18f17",
   "metadata": {},
   "outputs": [
    {
     "data": {
      "text/plain": [
       "0.7163461538461539"
      ]
     },
     "execution_count": 52,
     "metadata": {},
     "output_type": "execute_result"
    }
   ],
   "source": [
    "# AUC score \n",
    "# it is close to 1 which is great\n",
    "from sklearn.metrics import roc_auc_score\n",
    "roc_auc_score(training_set1.iloc[:,1], predictions1_class)"
   ]
  },
  {
   "cell_type": "code",
   "execution_count": 53,
   "id": "e54ba67e",
   "metadata": {},
   "outputs": [
    {
     "name": "stdout",
     "output_type": "stream",
     "text": [
      "[[16 18]\n",
      " [ 3 36]]\n"
     ]
    }
   ],
   "source": [
    "# checking the error performance of the model on the test set\n",
    "# error rate is 21/73\n",
    "# model catches 36 of 39 ups \n",
    "predictions_test=result1.predict(test_set)\n",
    "threshold=0.5\n",
    "predictions2_class_test = [ 1 if x > threshold else 0 for x in predictions_test] \n",
    "print(confusion_matrix(np.array(test_set.iloc[:,1]), predictions2_class_test))"
   ]
  },
  {
   "cell_type": "code",
   "execution_count": 54,
   "id": "f40e7c29",
   "metadata": {},
   "outputs": [
    {
     "name": "stdout",
     "output_type": "stream",
     "text": [
      "              precision    recall  f1-score   support\n",
      "\n",
      "         0.0       0.84      0.47      0.60        34\n",
      "         1.0       0.67      0.92      0.77        39\n",
      "\n",
      "    accuracy                           0.71        73\n",
      "   macro avg       0.75      0.70      0.69        73\n",
      "weighted avg       0.75      0.71      0.69        73\n",
      "\n"
     ]
    }
   ],
   "source": [
    "print(classification_report(np.array(test_set.iloc[:,1]), predictions2_class_test))"
   ]
  },
  {
   "cell_type": "code",
   "execution_count": 55,
   "id": "93235b68",
   "metadata": {},
   "outputs": [
    {
     "name": "stdout",
     "output_type": "stream",
     "text": [
      "0.6968325791855203\n"
     ]
    }
   ],
   "source": [
    "print(roc_auc_score(np.array(test_set.iloc[:,1]), predictions2_class_test))\n",
    "# AUC is lower in test set and is a little far from 1 "
   ]
  },
  {
   "cell_type": "code",
   "execution_count": 56,
   "id": "0d737dce",
   "metadata": {},
   "outputs": [],
   "source": [
    "# Defining model to fit with Lag1 , Lag2 , and monthly indicator: Dec \n",
    "formula = 'Up ~ Lag1+Lag2+Dec'"
   ]
  },
  {
   "cell_type": "code",
   "execution_count": 57,
   "id": "fffb814a",
   "metadata": {},
   "outputs": [
    {
     "data": {
      "text/html": [
       "<table class=\"simpletable\">\n",
       "<caption>Generalized Linear Model Regression Results</caption>\n",
       "<tr>\n",
       "  <th>Dep. Variable:</th>          <td>Up</td>        <th>  No. Observations:  </th>  <td>    92</td> \n",
       "</tr>\n",
       "<tr>\n",
       "  <th>Model:</th>                  <td>GLM</td>       <th>  Df Residuals:      </th>  <td>    88</td> \n",
       "</tr>\n",
       "<tr>\n",
       "  <th>Model Family:</th>        <td>Binomial</td>     <th>  Df Model:          </th>  <td>     3</td> \n",
       "</tr>\n",
       "<tr>\n",
       "  <th>Link Function:</th>         <td>Logit</td>      <th>  Scale:             </th> <td>  1.0000</td>\n",
       "</tr>\n",
       "<tr>\n",
       "  <th>Method:</th>                <td>IRLS</td>       <th>  Log-Likelihood:    </th> <td> -46.700</td>\n",
       "</tr>\n",
       "<tr>\n",
       "  <th>Date:</th>            <td>Fri, 29 Apr 2022</td> <th>  Deviance:          </th> <td>  93.401</td>\n",
       "</tr>\n",
       "<tr>\n",
       "  <th>Time:</th>                <td>17:46:28</td>     <th>  Pearson chi2:      </th>  <td>  79.0</td> \n",
       "</tr>\n",
       "<tr>\n",
       "  <th>No. Iterations:</th>         <td>21</td>        <th>  Pseudo R-squ. (CS):</th>  <td>0.2981</td> \n",
       "</tr>\n",
       "<tr>\n",
       "  <th>Covariance Type:</th>     <td>nonrobust</td>    <th>                     </th>     <td> </td>   \n",
       "</tr>\n",
       "</table>\n",
       "<table class=\"simpletable\">\n",
       "<tr>\n",
       "      <td></td>         <th>coef</th>     <th>std err</th>      <th>z</th>      <th>P>|z|</th>  <th>[0.025</th>    <th>0.975]</th>  \n",
       "</tr>\n",
       "<tr>\n",
       "  <th>Intercept</th> <td>    0.1378</td> <td>    0.251</td> <td>    0.548</td> <td> 0.583</td> <td>   -0.355</td> <td>    0.631</td>\n",
       "</tr>\n",
       "<tr>\n",
       "  <th>Lag1</th>      <td>   -0.0013</td> <td>    0.000</td> <td>   -3.598</td> <td> 0.000</td> <td>   -0.002</td> <td>   -0.001</td>\n",
       "</tr>\n",
       "<tr>\n",
       "  <th>Lag2</th>      <td>   -0.0006</td> <td>    0.000</td> <td>   -2.328</td> <td> 0.020</td> <td>   -0.001</td> <td>-9.66e-05</td>\n",
       "</tr>\n",
       "<tr>\n",
       "  <th>Dec</th>       <td>   22.9513</td> <td> 1.51e+04</td> <td>    0.002</td> <td> 0.999</td> <td>-2.96e+04</td> <td> 2.96e+04</td>\n",
       "</tr>\n",
       "</table>"
      ],
      "text/plain": [
       "<class 'statsmodels.iolib.summary.Summary'>\n",
       "\"\"\"\n",
       "                 Generalized Linear Model Regression Results                  \n",
       "==============================================================================\n",
       "Dep. Variable:                     Up   No. Observations:                   92\n",
       "Model:                            GLM   Df Residuals:                       88\n",
       "Model Family:                Binomial   Df Model:                            3\n",
       "Link Function:                  Logit   Scale:                          1.0000\n",
       "Method:                          IRLS   Log-Likelihood:                -46.700\n",
       "Date:                Fri, 29 Apr 2022   Deviance:                       93.401\n",
       "Time:                        17:46:28   Pearson chi2:                     79.0\n",
       "No. Iterations:                    21   Pseudo R-squ. (CS):             0.2981\n",
       "Covariance Type:            nonrobust                                         \n",
       "==============================================================================\n",
       "                 coef    std err          z      P>|z|      [0.025      0.975]\n",
       "------------------------------------------------------------------------------\n",
       "Intercept      0.1378      0.251      0.548      0.583      -0.355       0.631\n",
       "Lag1          -0.0013      0.000     -3.598      0.000      -0.002      -0.001\n",
       "Lag2          -0.0006      0.000     -2.328      0.020      -0.001   -9.66e-05\n",
       "Dec           22.9513   1.51e+04      0.002      0.999   -2.96e+04    2.96e+04\n",
       "==============================================================================\n",
       "\"\"\""
      ]
     },
     "execution_count": 57,
     "metadata": {},
     "output_type": "execute_result"
    }
   ],
   "source": [
    "model1 = smf.glm(formula = formula, data=training_set1, family=sm.families.Binomial())\n",
    "result1 = model1.fit()\n",
    "result1.summary()\n",
    "# results shows us that indicator at Dec  are insignificant since their P values are 0.999\n",
    "# the lag1 lag2  are statistically significant\n",
    "# that means ups and downs are not realted with the monthly indicators."
   ]
  },
  {
   "cell_type": "code",
   "execution_count": 58,
   "id": "b8463c15",
   "metadata": {},
   "outputs": [
    {
     "name": "stdout",
     "output_type": "stream",
     "text": [
      "[0, 1, 1, 1, 1, 0, 1, 1, 0, 1, 0, 0, 0, 1, 1, 1, 0, 1, 1, 1, 0, 1, 1, 0, 0, 1, 1, 0, 1, 0, 0, 1, 0, 1, 1, 0, 0, 1, 1, 1, 0, 0, 1, 1, 0, 1, 1, 0, 1, 0, 0, 1, 0, 0, 1, 1, 0, 1, 1, 0, 1, 1, 1, 0, 1, 0, 0, 1, 0, 1, 1, 0, 0, 1, 1, 0, 1, 0, 1, 1, 0, 1, 1, 1, 1, 0, 0, 1, 1, 1, 0, 1]\n"
     ]
    }
   ],
   "source": [
    "#Predicting the probabilities  with reduced model\n",
    "predictions1 = result1.predict() \n",
    "# assigning 1/2 as treshold to classify the results as 1 or 0 \n",
    "# if the probabilities are higher than 1/2 than it would be classified as class 1 \n",
    "pthreshold = 0.5\n",
    "predictions1_class = [ 1 if x > pthreshold else 0 for x in predictions1]\n",
    "print(predictions1_class)"
   ]
  },
  {
   "cell_type": "code",
   "execution_count": 59,
   "id": "5fdbf99c",
   "metadata": {},
   "outputs": [
    {
     "name": "stdout",
     "output_type": "stream",
     "text": [
      "[[28 12]\n",
      " [10 42]]\n"
     ]
    }
   ],
   "source": [
    "# based on confusion matrix\n",
    "# total error rate calculated: (12+10)/92 which is worse than the full model\n",
    "# we were able to predict 42 out of the 52 up periods as up\n",
    "# there is an Improvment in this model that we catch more down periods compared to full model\n",
    "# 28 out of 40 of downs are predicted correctly !!!!!!!!!\n",
    "print(confusion_matrix(training_set1.iloc[:,1], predictions1_class))"
   ]
  },
  {
   "cell_type": "code",
   "execution_count": 60,
   "id": "b837dd86",
   "metadata": {},
   "outputs": [
    {
     "name": "stdout",
     "output_type": "stream",
     "text": [
      "              precision    recall  f1-score   support\n",
      "\n",
      "         0.0       0.74      0.70      0.72        40\n",
      "         1.0       0.78      0.81      0.79        52\n",
      "\n",
      "    accuracy                           0.76        92\n",
      "   macro avg       0.76      0.75      0.76        92\n",
      "weighted avg       0.76      0.76      0.76        92\n",
      "\n"
     ]
    }
   ],
   "source": [
    "#report of reduced model on training set\n",
    "print(classification_report(training_set1.iloc[:,1], predictions1_class))"
   ]
  },
  {
   "cell_type": "code",
   "execution_count": 61,
   "id": "108b2843",
   "metadata": {},
   "outputs": [
    {
     "data": {
      "text/plain": [
       "0.7538461538461538"
      ]
     },
     "execution_count": 61,
     "metadata": {},
     "output_type": "execute_result"
    }
   ],
   "source": [
    "# AUC score \n",
    "# it is close to 1 which is great and it is better than the full model\n",
    "from sklearn.metrics import roc_auc_score\n",
    "roc_auc_score(training_set1.iloc[:,1], predictions1_class)"
   ]
  },
  {
   "cell_type": "code",
   "execution_count": 62,
   "id": "49c79a53",
   "metadata": {},
   "outputs": [
    {
     "name": "stdout",
     "output_type": "stream",
     "text": [
      "[[14 20]\n",
      " [ 6 33]]\n"
     ]
    }
   ],
   "source": [
    "# checking the error performance of the reduced model on the test set\n",
    "# error rate is 26/73 better than full model !!!\n",
    "# model catches 33 of 39 ups  full model is better !!!!!\n",
    "# model catches 14 of 34 of downs worse than previous model !!\n",
    "predictions_test=result1.predict(test_set)\n",
    "threshold=0.5\n",
    "predictions2_class_test = [ 1 if x > threshold else 0 for x in predictions_test] \n",
    "print(confusion_matrix(np.array(test_set.iloc[:,1]), predictions2_class_test))"
   ]
  },
  {
   "cell_type": "code",
   "execution_count": 63,
   "id": "d4a009cb",
   "metadata": {},
   "outputs": [
    {
     "name": "stdout",
     "output_type": "stream",
     "text": [
      "              precision    recall  f1-score   support\n",
      "\n",
      "         0.0       0.70      0.41      0.52        34\n",
      "         1.0       0.62      0.85      0.72        39\n",
      "\n",
      "    accuracy                           0.64        73\n",
      "   macro avg       0.66      0.63      0.62        73\n",
      "weighted avg       0.66      0.64      0.62        73\n",
      "\n"
     ]
    }
   ],
   "source": [
    "print(classification_report(np.array(test_set.iloc[:,1]), predictions2_class_test))"
   ]
  },
  {
   "cell_type": "code",
   "execution_count": 64,
   "id": "1f34311c",
   "metadata": {},
   "outputs": [
    {
     "name": "stdout",
     "output_type": "stream",
     "text": [
      "0.6289592760180995\n"
     ]
    }
   ],
   "source": [
    "print(roc_auc_score(np.array(test_set.iloc[:,1]), predictions2_class_test))\n",
    "# AUC is lower in test set and lower than full-model in terms of test set and is a little far from 1 "
   ]
  },
  {
   "cell_type": "code",
   "execution_count": null,
   "id": "e1872ec6",
   "metadata": {},
   "outputs": [],
   "source": []
  },
  {
   "cell_type": "code",
   "execution_count": null,
   "id": "086bab8b",
   "metadata": {},
   "outputs": [],
   "source": []
  }
 ],
 "metadata": {
  "kernelspec": {
   "display_name": "Python 3 (ipykernel)",
   "language": "python",
   "name": "python3"
  },
  "language_info": {
   "codemirror_mode": {
    "name": "ipython",
    "version": 3
   },
   "file_extension": ".py",
   "mimetype": "text/x-python",
   "name": "python",
   "nbconvert_exporter": "python",
   "pygments_lexer": "ipython3",
   "version": "3.9.5"
  }
 },
 "nbformat": 4,
 "nbformat_minor": 5
}
